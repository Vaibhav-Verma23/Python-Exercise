{
 "cells": [
  {
   "cell_type": "code",
   "execution_count": 1,
   "id": "d5f120cb",
   "metadata": {},
   "outputs": [
    {
     "name": "stdout",
     "output_type": "stream",
     "text": [
      "Dip\n"
     ]
    }
   ],
   "source": [
    "#Q1 Given a string of odd length greater than 7, return a string made of the middle three chars of a given String\n",
    "s1 = \"JohnDipPeta\"\n",
    "l = len(s1)\n",
    "l = l//2-1\n",
    "print(s1[l:l+3])"
   ]
  },
  {
   "cell_type": "code",
   "execution_count": 2,
   "id": "dc45dd3d",
   "metadata": {},
   "outputs": [
    {
     "name": "stdout",
     "output_type": "stream",
     "text": [
      "AuKellylt\n"
     ]
    }
   ],
   "source": [
    "#Q2 Given 2 strings, s1 and s2, create a new string by appending s2 in the middle of s1\n",
    "s1 = \"Ault\"\n",
    "s2 = \"Kelly\"\n",
    "m = len(s1)//2\n",
    "s3 = s1[:m:]\n",
    "s3 = s3+s2\n",
    "s3 = s3+s1[m:]\n",
    "print(s3)"
   ]
  },
  {
   "cell_type": "code",
   "execution_count": 3,
   "id": "9ebf7e61",
   "metadata": {},
   "outputs": [
    {
     "name": "stdout",
     "output_type": "stream",
     "text": [
      "yaivePNT\n"
     ]
    }
   ],
   "source": [
    "#Q3 Arrange string characters such that lowercase letters should come first\n",
    "s = \"PyNaTive\"\n",
    "l = ''\n",
    "u = ''\n",
    "for i in s:\n",
    "    if i.islower():\n",
    "        l+=i\n",
    "    else:\n",
    "        u += i\n",
    "print(l+u)"
   ]
  },
  {
   "cell_type": "code",
   "execution_count": 4,
   "id": "85a4e336",
   "metadata": {},
   "outputs": [
    {
     "name": "stdout",
     "output_type": "stream",
     "text": [
      "43\n"
     ]
    }
   ],
   "source": [
    "# Q4 Find the last position of a substring “Emma” in a given string\n",
    "str1 = \"Emma is a data scientist who knows Python. Emma works at google.\"\n",
    "print(str1.rfind(\"Emma\"))"
   ]
  },
  {
   "cell_type": "code",
   "execution_count": null,
   "id": "30c9f58c",
   "metadata": {},
   "outputs": [],
   "source": []
  }
 ],
 "metadata": {
  "kernelspec": {
   "display_name": "Python 3 (ipykernel)",
   "language": "python",
   "name": "python3"
  },
  "language_info": {
   "codemirror_mode": {
    "name": "ipython",
    "version": 3
   },
   "file_extension": ".py",
   "mimetype": "text/x-python",
   "name": "python",
   "nbconvert_exporter": "python",
   "pygments_lexer": "ipython3",
   "version": "3.9.2"
  }
 },
 "nbformat": 4,
 "nbformat_minor": 5
}
